{
 "cells": [
  {
   "cell_type": "code",
   "execution_count": 2,
   "metadata": {},
   "outputs": [
    {
     "data": {
      "text/plain": [
       "'Excel sheets updated successfully.'"
      ]
     },
     "execution_count": 2,
     "metadata": {},
     "output_type": "execute_result"
    }
   ],
   "source": [
    "import numpy as np\n",
    "import pandas as pd\n",
    "import pickle \n",
    "\n",
    "excel_path_in = 'merged_data.xlsx'\n",
    "xl = pd.ExcelFile(excel_path_in)\n",
    "\n",
    "excel_path_out = 'merged_data_material.xlsx'\n",
    "\n",
    "# Initialize Excel writer\n",
    "with pd.ExcelWriter(excel_path_out, engine='openpyxl', mode='w') as writer:\n",
    "    # Iterate over each sheet name\n",
    "    for sheet_name in xl.sheet_names:\n",
    "        # Read the sheet into a DataFrame\n",
    "        df = pd.read_excel(excel_path_in, sheet_name=sheet_name)\n",
    "        \n",
    "        # Convert the Unix time in milliseconds to datetime and get the day of the week\n",
    "        df['day_of_week'] = pd.to_datetime(df.iloc[:, 0], unit='ms').dt.day_name()\n",
    "        \n",
    "        # Create a new column 'Material' based on the day of the week\n",
    "        conditions = [\n",
    "            df['day_of_week'] == 'Monday',\n",
    "            (df['day_of_week'] == 'Tuesday') | (df['day_of_week'] == 'Wednesday')\n",
    "        ]\n",
    "        choices = ['Acrylic', 'Wood']\n",
    "        df['material'] = np.select(conditions, choices, default='Aluminium')\n",
    "        \n",
    "        # Drop the temporary 'day_of_week' column\n",
    "        df.drop('day_of_week', axis=1, inplace=True)\n",
    "        \n",
    "        # Write the updated DataFrame back to the same sheet\n",
    "        df.to_excel(writer, sheet_name=sheet_name, index=False)\n",
    "\n",
    "# Confirm that the sheets have been updated\n",
    "\"Excel sheets updated successfully.\"\n",
    "\n"
   ]
  },
  {
   "cell_type": "code",
   "execution_count": 5,
   "metadata": {},
   "outputs": [],
   "source": [
    "import numpy as np\n",
    "import pandas as pd\n",
    "import pickle \n",
    "\n",
    "# Step 1: Read Excel file into a Pandas DataFrame\n",
    "# excel_path = 'data_pedreira.xlsx'\n",
    "# xls_dict = pd.read_excel(excel_path, sheet_name=None)\n",
    "csv_path = 'data_compal.csv'\n",
    "df = pd.read_csv(csv_path)\n",
    "\n",
    "\n",
    "#pkl_path = 'data_pedreira.pkl'\n",
    "pkl_path = 'data_compal.pkl'\n",
    "# Save the dictionary to a pickle file\n",
    "with open(pkl_path, \"wb\") as f:\n",
    "    #pickle.dump(xls_dict, f)\n",
    "    pickle.dump(df, f)"
   ]
  }
 ],
 "metadata": {
  "kernelspec": {
   "display_name": "pic",
   "language": "python",
   "name": "python3"
  },
  "language_info": {
   "codemirror_mode": {
    "name": "ipython",
    "version": 3
   },
   "file_extension": ".py",
   "mimetype": "text/x-python",
   "name": "python",
   "nbconvert_exporter": "python",
   "pygments_lexer": "ipython3",
   "version": "3.11.0"
  },
  "orig_nbformat": 4
 },
 "nbformat": 4,
 "nbformat_minor": 2
}
